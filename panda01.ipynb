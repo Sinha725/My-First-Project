{
 "cells": [
  {
   "cell_type": "code",
   "execution_count": 1,
   "id": "a2353b3a",
   "metadata": {},
   "outputs": [],
   "source": [
    "import pandas as pd"
   ]
  },
  {
   "cell_type": "code",
   "execution_count": 75,
   "id": "7a760b5c",
   "metadata": {},
   "outputs": [],
   "source": [
    "s=pd.Series([10,20,30])"
   ]
  },
  {
   "cell_type": "code",
   "execution_count": 76,
   "id": "d97631d8",
   "metadata": {},
   "outputs": [
    {
     "name": "stdout",
     "output_type": "stream",
     "text": [
      "0    10\n",
      "1    20\n",
      "2    30\n",
      "dtype: int64\n"
     ]
    }
   ],
   "source": [
    "print(s)"
   ]
  },
  {
   "cell_type": "code",
   "execution_count": 77,
   "id": "bbd894d0",
   "metadata": {},
   "outputs": [
    {
     "data": {
      "text/plain": [
       "dtype('int64')"
      ]
     },
     "execution_count": 77,
     "metadata": {},
     "output_type": "execute_result"
    }
   ],
   "source": [
    "s.dtype"
   ]
  },
  {
   "cell_type": "code",
   "execution_count": 78,
   "id": "c0f9781e",
   "metadata": {},
   "outputs": [
    {
     "data": {
      "text/plain": [
       "array([10, 20, 30])"
      ]
     },
     "execution_count": 78,
     "metadata": {},
     "output_type": "execute_result"
    }
   ],
   "source": [
    "s.values"
   ]
  },
  {
   "cell_type": "code",
   "execution_count": 79,
   "id": "96d1cd09",
   "metadata": {},
   "outputs": [
    {
     "data": {
      "text/plain": [
       "RangeIndex(start=0, stop=3, step=1)"
      ]
     },
     "execution_count": 79,
     "metadata": {},
     "output_type": "execute_result"
    }
   ],
   "source": [
    "s.index"
   ]
  },
  {
   "cell_type": "code",
   "execution_count": null,
   "id": "70b29ae9",
   "metadata": {},
   "outputs": [
    {
     "ename": "",
     "evalue": "",
     "output_type": "error",
     "traceback": [
      "\u001b[1;31mRunning cells with '.venv (3.13.7) (Python 3.13.7)' requires the ipykernel package.\n",
      "\u001b[1;31mInstall 'ipykernel' into the Python environment. \n",
      "\u001b[1;31mCommand: '\"c:/Users/HP/Desktop/ML learning/.venv/Scripts/python.exe\" -m pip install ipykernel -U --force-reinstall'"
     ]
    }
   ],
   "source": [
    "s.name=\"numbers\""
   ]
  },
  {
   "cell_type": "code",
   "execution_count": 81,
   "id": "5d43735a",
   "metadata": {},
   "outputs": [
    {
     "data": {
      "text/plain": [
       "np.int64(10)"
      ]
     },
     "execution_count": 81,
     "metadata": {},
     "output_type": "execute_result"
    }
   ],
   "source": [
    "#indexing\n",
    "s[0]"
   ]
  },
  {
   "cell_type": "code",
   "execution_count": 82,
   "id": "22b31e0b",
   "metadata": {},
   "outputs": [
    {
     "data": {
      "text/plain": [
       "np.int64(10)"
      ]
     },
     "execution_count": 82,
     "metadata": {},
     "output_type": "execute_result"
    }
   ],
   "source": [
    "s[0]\n"
   ]
  },
  {
   "cell_type": "code",
   "execution_count": 83,
   "id": "e0194acf",
   "metadata": {},
   "outputs": [
    {
     "data": {
      "text/plain": [
       "0    10\n",
       "1    20\n",
       "Name: numbers, dtype: int64"
      ]
     },
     "execution_count": 83,
     "metadata": {},
     "output_type": "execute_result"
    }
   ],
   "source": [
    "s[0:2]#staert(included):stop(excluded)"
   ]
  },
  {
   "cell_type": "code",
   "execution_count": 84,
   "id": "de62fe0c",
   "metadata": {},
   "outputs": [
    {
     "data": {
      "text/plain": [
       "np.int64(30)"
      ]
     },
     "execution_count": 84,
     "metadata": {},
     "output_type": "execute_result"
    }
   ],
   "source": [
    "s.iloc[2]"
   ]
  },
  {
   "cell_type": "code",
   "execution_count": 85,
   "id": "d827b31b",
   "metadata": {},
   "outputs": [
    {
     "data": {
      "text/plain": [
       "0    10\n",
       "1    20\n",
       "2    30\n",
       "Name: numbers, dtype: int64"
      ]
     },
     "execution_count": 85,
     "metadata": {},
     "output_type": "execute_result"
    }
   ],
   "source": [
    "s.iloc[[0,1,2]]"
   ]
  },
  {
   "cell_type": "code",
   "execution_count": 86,
   "id": "f0d5e6b7",
   "metadata": {},
   "outputs": [],
   "source": [
    "index=[\"apple\",\"banana\",\"grapes\",\"orange\",\"strawberry\"]"
   ]
  },
  {
   "cell_type": "code",
   "execution_count": 87,
   "id": "457e4db2",
   "metadata": {},
   "outputs": [],
   "source": [
    "p=pd.Series([100,455,300,400,600])"
   ]
  },
  {
   "cell_type": "code",
   "execution_count": 88,
   "id": "bf52354b",
   "metadata": {},
   "outputs": [],
   "source": [
    "p.name=\"calories\""
   ]
  },
  {
   "cell_type": "code",
   "execution_count": 89,
   "id": "c4af44af",
   "metadata": {},
   "outputs": [],
   "source": [
    "p.index=index"
   ]
  },
  {
   "cell_type": "code",
   "execution_count": 90,
   "id": "5f97bca3",
   "metadata": {},
   "outputs": [
    {
     "name": "stdout",
     "output_type": "stream",
     "text": [
      "apple         100\n",
      "banana        455\n",
      "grapes        300\n",
      "orange        400\n",
      "strawberry    600\n",
      "Name: calories, dtype: int64\n"
     ]
    }
   ],
   "source": [
    "print(p)"
   ]
  },
  {
   "cell_type": "code",
   "execution_count": 91,
   "id": "93d69381",
   "metadata": {},
   "outputs": [
    {
     "data": {
      "text/plain": [
       "np.int64(300)"
      ]
     },
     "execution_count": 91,
     "metadata": {},
     "output_type": "execute_result"
    }
   ],
   "source": [
    "p['grapes']"
   ]
  },
  {
   "cell_type": "code",
   "execution_count": 92,
   "id": "90eac460",
   "metadata": {},
   "outputs": [
    {
     "data": {
      "text/plain": [
       "np.int64(300)"
      ]
     },
     "execution_count": 92,
     "metadata": {},
     "output_type": "execute_result"
    }
   ],
   "source": [
    "p.iloc[2] #iloc=label based index\n"
   ]
  },
  {
   "cell_type": "code",
   "execution_count": 93,
   "id": "aa7bcc88",
   "metadata": {},
   "outputs": [],
   "source": [
    "fruit_protein={\n",
    "    \"Avocado\":2.0,\n",
    "    \"Guava\":2.6,\n",
    "    \"BLackberry\":2.0,\n",
    "    \"Oranges\":0.9,\n",
    "    \"Banana\":1.1,\n",
    "    \"Apples\":0.3,\n",
    "    \"kiwi\":1.1,\n",
    "    \"pomegranate\":1.7,\n",
    "    \"Mango\":0.8,\n",
    "    \"Cherries\":1.0\n",
    "}"
   ]
  },
  {
   "cell_type": "code",
   "execution_count": 94,
   "id": "958ac0fa",
   "metadata": {},
   "outputs": [
    {
     "data": {
      "text/plain": [
       "Avocado        2.0\n",
       "Guava          2.6\n",
       "BLackberry     2.0\n",
       "Oranges        0.9\n",
       "Banana         1.1\n",
       "Apples         0.3\n",
       "kiwi           1.1\n",
       "pomegranate    1.7\n",
       "Mango          0.8\n",
       "Cherries       1.0\n",
       "Name: Protein, dtype: float64"
      ]
     },
     "execution_count": 94,
     "metadata": {},
     "output_type": "execute_result"
    }
   ],
   "source": [
    "s02=pd.Series(fruit_protein,name=\"Protein\")\n",
    "s02"
   ]
  },
  {
   "cell_type": "code",
   "execution_count": 95,
   "id": "f0f21a5a",
   "metadata": {},
   "outputs": [
    {
     "data": {
      "text/plain": [
       "Avocado        2.0\n",
       "Guava          2.6\n",
       "BLackberry     2.0\n",
       "Banana         1.1\n",
       "kiwi           1.1\n",
       "pomegranate    1.7\n",
       "Name: Protein, dtype: float64"
      ]
     },
     "execution_count": 95,
     "metadata": {},
     "output_type": "execute_result"
    }
   ],
   "source": [
    "#conditional selection\n",
    "s02[s02>1]"
   ]
  },
  {
   "cell_type": "code",
   "execution_count": 96,
   "id": "9155d180",
   "metadata": {},
   "outputs": [
    {
     "data": {
      "text/plain": [
       "Avocado        2.0\n",
       "BLackberry     2.0\n",
       "Oranges        0.9\n",
       "Banana         1.1\n",
       "kiwi           1.1\n",
       "pomegranate    1.7\n",
       "Mango          0.8\n",
       "Cherries       1.0\n",
       "Name: Protein, dtype: float64"
      ]
     },
     "execution_count": 96,
     "metadata": {},
     "output_type": "execute_result"
    }
   ],
   "source": [
    "#logical operators:And,or,Not\n",
    "s02[(s02>.5) & (s02<=2)]"
   ]
  },
  {
   "cell_type": "code",
   "execution_count": 97,
   "id": "5f32d271",
   "metadata": {},
   "outputs": [
    {
     "data": {
      "text/plain": [
       "Avocado        2.0\n",
       "Guava          2.6\n",
       "BLackberry     2.0\n",
       "Banana         1.1\n",
       "kiwi           1.1\n",
       "pomegranate    1.7\n",
       "Cherries       1.0\n",
       "Name: Protein, dtype: float64"
      ]
     },
     "execution_count": 97,
     "metadata": {},
     "output_type": "execute_result"
    }
   ],
   "source": [
    "s02[~(s02<1)]"
   ]
  },
  {
   "cell_type": "code",
   "execution_count": 138,
   "id": "5e3a4b40",
   "metadata": {},
   "outputs": [],
   "source": [
    "data={\n",
    "    \"Name\":[\"Alice\",\"Bob\",\"Charlie\",\"David\",\"Eve\"],\n",
    "    \"Age\":[25,30,np.nan,29,25],\n",
    "    \"Department\":[\"HR\",\"IT\",\"FINANCE\",\"HR\",\"HR\"],\n",
    "    \"Salary\":[50000,60000,62000,np.nan,50000]\n",
    "    \n",
    "}\n"
   ]
  },
  {
   "cell_type": "code",
   "execution_count": 139,
   "id": "055cfc07",
   "metadata": {},
   "outputs": [
    {
     "data": {
      "text/plain": [
       "{'Name': ['Alice', 'Bob', 'Charlie', 'David', 'Eve'],\n",
       " 'Age': [25, 30, nan, 29, 25],\n",
       " 'Department': ['HR', 'IT', 'FINANCE', 'HR', 'HR'],\n",
       " 'Salary': [50000, 60000, 62000, nan, 50000]}"
      ]
     },
     "execution_count": 139,
     "metadata": {},
     "output_type": "execute_result"
    }
   ],
   "source": [
    "data"
   ]
  },
  {
   "cell_type": "code",
   "execution_count": 140,
   "id": "1b142d5b",
   "metadata": {},
   "outputs": [
    {
     "data": {
      "text/html": [
       "<div>\n",
       "<style scoped>\n",
       "    .dataframe tbody tr th:only-of-type {\n",
       "        vertical-align: middle;\n",
       "    }\n",
       "\n",
       "    .dataframe tbody tr th {\n",
       "        vertical-align: top;\n",
       "    }\n",
       "\n",
       "    .dataframe thead th {\n",
       "        text-align: right;\n",
       "    }\n",
       "</style>\n",
       "<table border=\"1\" class=\"dataframe\">\n",
       "  <thead>\n",
       "    <tr style=\"text-align: right;\">\n",
       "      <th></th>\n",
       "      <th>Name</th>\n",
       "      <th>Age</th>\n",
       "      <th>Department</th>\n",
       "      <th>Salary</th>\n",
       "    </tr>\n",
       "  </thead>\n",
       "  <tbody>\n",
       "    <tr>\n",
       "      <th>0</th>\n",
       "      <td>Alice</td>\n",
       "      <td>25.0</td>\n",
       "      <td>HR</td>\n",
       "      <td>50000.0</td>\n",
       "    </tr>\n",
       "    <tr>\n",
       "      <th>1</th>\n",
       "      <td>Bob</td>\n",
       "      <td>30.0</td>\n",
       "      <td>IT</td>\n",
       "      <td>60000.0</td>\n",
       "    </tr>\n",
       "    <tr>\n",
       "      <th>2</th>\n",
       "      <td>Charlie</td>\n",
       "      <td>NaN</td>\n",
       "      <td>FINANCE</td>\n",
       "      <td>62000.0</td>\n",
       "    </tr>\n",
       "    <tr>\n",
       "      <th>3</th>\n",
       "      <td>David</td>\n",
       "      <td>29.0</td>\n",
       "      <td>HR</td>\n",
       "      <td>NaN</td>\n",
       "    </tr>\n",
       "    <tr>\n",
       "      <th>4</th>\n",
       "      <td>Eve</td>\n",
       "      <td>25.0</td>\n",
       "      <td>HR</td>\n",
       "      <td>50000.0</td>\n",
       "    </tr>\n",
       "  </tbody>\n",
       "</table>\n",
       "</div>"
      ],
      "text/plain": [
       "      Name   Age Department   Salary\n",
       "0    Alice  25.0         HR  50000.0\n",
       "1      Bob  30.0         IT  60000.0\n",
       "2  Charlie   NaN    FINANCE  62000.0\n",
       "3    David  29.0         HR      NaN\n",
       "4      Eve  25.0         HR  50000.0"
      ]
     },
     "execution_count": 140,
     "metadata": {},
     "output_type": "execute_result"
    }
   ],
   "source": [
    "df=pd.DataFrame(data)\n",
    "df"
   ]
  },
  {
   "cell_type": "code",
   "execution_count": 141,
   "id": "b9ac398a",
   "metadata": {},
   "outputs": [
    {
     "data": {
      "text/html": [
       "<div>\n",
       "<style scoped>\n",
       "    .dataframe tbody tr th:only-of-type {\n",
       "        vertical-align: middle;\n",
       "    }\n",
       "\n",
       "    .dataframe tbody tr th {\n",
       "        vertical-align: top;\n",
       "    }\n",
       "\n",
       "    .dataframe thead th {\n",
       "        text-align: right;\n",
       "    }\n",
       "</style>\n",
       "<table border=\"1\" class=\"dataframe\">\n",
       "  <thead>\n",
       "    <tr style=\"text-align: right;\">\n",
       "      <th></th>\n",
       "      <th>Name</th>\n",
       "      <th>Age</th>\n",
       "      <th>Department</th>\n",
       "      <th>Salary</th>\n",
       "    </tr>\n",
       "  </thead>\n",
       "  <tbody>\n",
       "    <tr>\n",
       "      <th>2</th>\n",
       "      <td>Charlie</td>\n",
       "      <td>NaN</td>\n",
       "      <td>FINANCE</td>\n",
       "      <td>62000.0</td>\n",
       "    </tr>\n",
       "    <tr>\n",
       "      <th>3</th>\n",
       "      <td>David</td>\n",
       "      <td>29.0</td>\n",
       "      <td>HR</td>\n",
       "      <td>NaN</td>\n",
       "    </tr>\n",
       "    <tr>\n",
       "      <th>4</th>\n",
       "      <td>Eve</td>\n",
       "      <td>25.0</td>\n",
       "      <td>HR</td>\n",
       "      <td>50000.0</td>\n",
       "    </tr>\n",
       "  </tbody>\n",
       "</table>\n",
       "</div>"
      ],
      "text/plain": [
       "      Name   Age Department   Salary\n",
       "2  Charlie   NaN    FINANCE  62000.0\n",
       "3    David  29.0         HR      NaN\n",
       "4      Eve  25.0         HR  50000.0"
      ]
     },
     "execution_count": 141,
     "metadata": {},
     "output_type": "execute_result"
    }
   ],
   "source": [
    "df.tail(3)"
   ]
  },
  {
   "cell_type": "code",
   "execution_count": 142,
   "id": "4c4b6c27",
   "metadata": {},
   "outputs": [
    {
     "data": {
      "text/html": [
       "<div>\n",
       "<style scoped>\n",
       "    .dataframe tbody tr th:only-of-type {\n",
       "        vertical-align: middle;\n",
       "    }\n",
       "\n",
       "    .dataframe tbody tr th {\n",
       "        vertical-align: top;\n",
       "    }\n",
       "\n",
       "    .dataframe thead th {\n",
       "        text-align: right;\n",
       "    }\n",
       "</style>\n",
       "<table border=\"1\" class=\"dataframe\">\n",
       "  <thead>\n",
       "    <tr style=\"text-align: right;\">\n",
       "      <th></th>\n",
       "      <th>Age</th>\n",
       "      <th>Department</th>\n",
       "    </tr>\n",
       "  </thead>\n",
       "  <tbody>\n",
       "    <tr>\n",
       "      <th>1</th>\n",
       "      <td>30.0</td>\n",
       "      <td>IT</td>\n",
       "    </tr>\n",
       "    <tr>\n",
       "      <th>2</th>\n",
       "      <td>NaN</td>\n",
       "      <td>FINANCE</td>\n",
       "    </tr>\n",
       "    <tr>\n",
       "      <th>3</th>\n",
       "      <td>29.0</td>\n",
       "      <td>HR</td>\n",
       "    </tr>\n",
       "  </tbody>\n",
       "</table>\n",
       "</div>"
      ],
      "text/plain": [
       "    Age Department\n",
       "1  30.0         IT\n",
       "2   NaN    FINANCE\n",
       "3  29.0         HR"
      ]
     },
     "execution_count": 142,
     "metadata": {},
     "output_type": "execute_result"
    }
   ],
   "source": [
    "df.loc[1:3,[\"Age\",\"Department\"]]"
   ]
  },
  {
   "cell_type": "code",
   "execution_count": 143,
   "id": "afd01fed",
   "metadata": {},
   "outputs": [
    {
     "data": {
      "text/html": [
       "<div>\n",
       "<style scoped>\n",
       "    .dataframe tbody tr th:only-of-type {\n",
       "        vertical-align: middle;\n",
       "    }\n",
       "\n",
       "    .dataframe tbody tr th {\n",
       "        vertical-align: top;\n",
       "    }\n",
       "\n",
       "    .dataframe thead th {\n",
       "        text-align: right;\n",
       "    }\n",
       "</style>\n",
       "<table border=\"1\" class=\"dataframe\">\n",
       "  <thead>\n",
       "    <tr style=\"text-align: right;\">\n",
       "      <th></th>\n",
       "      <th>Name</th>\n",
       "      <th>Age</th>\n",
       "      <th>Department</th>\n",
       "    </tr>\n",
       "  </thead>\n",
       "  <tbody>\n",
       "    <tr>\n",
       "      <th>1</th>\n",
       "      <td>Bob</td>\n",
       "      <td>30.0</td>\n",
       "      <td>IT</td>\n",
       "    </tr>\n",
       "    <tr>\n",
       "      <th>2</th>\n",
       "      <td>Charlie</td>\n",
       "      <td>NaN</td>\n",
       "      <td>FINANCE</td>\n",
       "    </tr>\n",
       "  </tbody>\n",
       "</table>\n",
       "</div>"
      ],
      "text/plain": [
       "      Name   Age Department\n",
       "1      Bob  30.0         IT\n",
       "2  Charlie   NaN    FINANCE"
      ]
     },
     "execution_count": 143,
     "metadata": {},
     "output_type": "execute_result"
    }
   ],
   "source": [
    "df.iloc[1:3,:3]#rows,col"
   ]
  },
  {
   "cell_type": "code",
   "execution_count": 144,
   "id": "ccfa48ab",
   "metadata": {},
   "outputs": [
    {
     "data": {
      "text/plain": [
       "(5, 4)"
      ]
     },
     "execution_count": 144,
     "metadata": {},
     "output_type": "execute_result"
    }
   ],
   "source": [
    "df.shape\n"
   ]
  },
  {
   "cell_type": "code",
   "execution_count": 145,
   "id": "9f18ae99",
   "metadata": {},
   "outputs": [
    {
     "name": "stdout",
     "output_type": "stream",
     "text": [
      "<class 'pandas.core.frame.DataFrame'>\n",
      "RangeIndex: 5 entries, 0 to 4\n",
      "Data columns (total 4 columns):\n",
      " #   Column      Non-Null Count  Dtype  \n",
      "---  ------      --------------  -----  \n",
      " 0   Name        5 non-null      object \n",
      " 1   Age         4 non-null      float64\n",
      " 2   Department  5 non-null      object \n",
      " 3   Salary      4 non-null      float64\n",
      "dtypes: float64(2), object(2)\n",
      "memory usage: 292.0+ bytes\n"
     ]
    }
   ],
   "source": [
    "df.info()"
   ]
  },
  {
   "cell_type": "code",
   "execution_count": 148,
   "id": "d440080b",
   "metadata": {},
   "outputs": [
    {
     "data": {
      "text/plain": [
       "0    50000.0\n",
       "1    60000.0\n",
       "2    62000.0\n",
       "3        NaN\n",
       "4    50000.0\n",
       "Name: Salary, dtype: float64"
      ]
     },
     "execution_count": 148,
     "metadata": {},
     "output_type": "execute_result"
    }
   ],
   "source": [
    "#broadcasting\n",
    "df[\"Salary\"==df[\"Salary\"]+5000]\n",
    "df[\"Salary\"]"
   ]
  },
  {
   "cell_type": "code",
   "execution_count": null,
   "id": "94d2959f",
   "metadata": {},
   "outputs": [],
   "source": []
  },
  {
   "cell_type": "code",
   "execution_count": null,
   "id": "3ca26228",
   "metadata": {},
   "outputs": [],
   "source": []
  },
  {
   "cell_type": "code",
   "execution_count": null,
   "id": "15a3cfa8",
   "metadata": {},
   "outputs": [],
   "source": []
  }
 ],
 "metadata": {
  "kernelspec": {
   "display_name": "base",
   "language": "python",
   "name": "python3"
  },
  "language_info": {
   "codemirror_mode": {
    "name": "ipython",
    "version": 3
   },
   "file_extension": ".py",
   "mimetype": "text/x-python",
   "name": "python",
   "nbconvert_exporter": "python",
   "pygments_lexer": "ipython3",
   "version": "3.13.5"
  }
 },
 "nbformat": 4,
 "nbformat_minor": 5
}
